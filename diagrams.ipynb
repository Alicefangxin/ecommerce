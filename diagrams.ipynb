{
 "cells": [
  {
   "cell_type": "code",
   "execution_count": 34,
   "id": "ee2c2616",
   "metadata": {},
   "outputs": [],
   "source": [
    "import iplantuml"
   ]
  },
  {
   "cell_type": "code",
   "execution_count": 35,
   "id": "d3a788b4",
   "metadata": {},
   "outputs": [
    {
     "data": {
      "image/svg+xml": [
       "<svg xmlns=\"http://www.w3.org/2000/svg\" xmlns:xlink=\"http://www.w3.org/1999/xlink\" contentStyleType=\"text/css\" height=\"406px\" preserveAspectRatio=\"none\" style=\"width:160px;height:406px;background:#FFFFFF;\" version=\"1.1\" viewBox=\"0 0 160 406\" width=\"160px\" zoomAndPan=\"magnify\"><defs/><g><ellipse cx=\"80\" cy=\"20\" fill=\"#222222\" rx=\"10\" ry=\"10\" style=\"stroke:#222222;stroke-width:1.0;\"/><rect fill=\"#F1F1F1\" height=\"33.9688\" rx=\"12.5\" ry=\"12.5\" style=\"stroke:#181818;stroke-width:0.5;\" width=\"87\" x=\"36.5\" y=\"50\"/><text fill=\"#000000\" font-family=\"sans-serif\" font-size=\"12\" lengthAdjust=\"spacing\" textLength=\"67\" x=\"46.5\" y=\"71.1387\">Start Page</text><rect fill=\"#F1F1F1\" height=\"33.9688\" rx=\"12.5\" ry=\"12.5\" style=\"stroke:#181818;stroke-width:0.5;\" width=\"112\" x=\"24\" y=\"103.9688\"/><text fill=\"#000000\" font-family=\"sans-serif\" font-size=\"12\" lengthAdjust=\"spacing\" textLength=\"92\" x=\"34\" y=\"125.1074\">Select Product</text><rect fill=\"#F1F1F1\" height=\"33.9688\" rx=\"12.5\" ry=\"12.5\" style=\"stroke:#181818;stroke-width:0.5;\" width=\"91\" x=\"34.5\" y=\"157.9375\"/><text fill=\"#000000\" font-family=\"sans-serif\" font-size=\"12\" lengthAdjust=\"spacing\" textLength=\"71\" x=\"44.5\" y=\"179.0762\">Add to Cart</text><rect fill=\"#F1F1F1\" height=\"33.9688\" rx=\"12.5\" ry=\"12.5\" style=\"stroke:#181818;stroke-width:0.5;\" width=\"78\" x=\"41\" y=\"211.9063\"/><text fill=\"#000000\" font-family=\"sans-serif\" font-size=\"12\" lengthAdjust=\"spacing\" textLength=\"58\" x=\"51\" y=\"233.0449\">View Cart</text><rect fill=\"#F1F1F1\" height=\"33.9688\" rx=\"12.5\" ry=\"12.5\" style=\"stroke:#181818;stroke-width:0.5;\" width=\"102\" x=\"29\" y=\"265.875\"/><text fill=\"#000000\" font-family=\"sans-serif\" font-size=\"12\" lengthAdjust=\"spacing\" textLength=\"82\" x=\"39\" y=\"287.0137\">Submit Order</text><rect fill=\"#F1F1F1\" height=\"33.9688\" rx=\"12.5\" ry=\"12.5\" style=\"stroke:#181818;stroke-width:0.5;\" width=\"138\" x=\"11\" y=\"319.8438\"/><text fill=\"#000000\" font-family=\"sans-serif\" font-size=\"12\" lengthAdjust=\"spacing\" textLength=\"118\" x=\"21\" y=\"340.9824\">Order Confirmation</text><ellipse cx=\"80\" cy=\"384.8125\" fill=\"none\" rx=\"11\" ry=\"11\" style=\"stroke:#222222;stroke-width:1.0;\"/><ellipse cx=\"80\" cy=\"384.8125\" fill=\"#222222\" rx=\"6\" ry=\"6\" style=\"stroke:#111111;stroke-width:1.0;\"/><line style=\"stroke:#181818;stroke-width:1.0;\" x1=\"80\" x2=\"80\" y1=\"30\" y2=\"50\"/><polygon fill=\"#181818\" points=\"76,40,80,50,84,40,80,44\" style=\"stroke:#181818;stroke-width:1.0;\"/><line style=\"stroke:#181818;stroke-width:1.0;\" x1=\"80\" x2=\"80\" y1=\"83.9688\" y2=\"103.9688\"/><polygon fill=\"#181818\" points=\"76,93.9688,80,103.9688,84,93.9688,80,97.9688\" style=\"stroke:#181818;stroke-width:1.0;\"/><line style=\"stroke:#181818;stroke-width:1.0;\" x1=\"80\" x2=\"80\" y1=\"137.9375\" y2=\"157.9375\"/><polygon fill=\"#181818\" points=\"76,147.9375,80,157.9375,84,147.9375,80,151.9375\" style=\"stroke:#181818;stroke-width:1.0;\"/><line style=\"stroke:#181818;stroke-width:1.0;\" x1=\"80\" x2=\"80\" y1=\"191.9063\" y2=\"211.9063\"/><polygon fill=\"#181818\" points=\"76,201.9063,80,211.9063,84,201.9063,80,205.9063\" style=\"stroke:#181818;stroke-width:1.0;\"/><line style=\"stroke:#181818;stroke-width:1.0;\" x1=\"80\" x2=\"80\" y1=\"245.875\" y2=\"265.875\"/><polygon fill=\"#181818\" points=\"76,255.875,80,265.875,84,255.875,80,259.875\" style=\"stroke:#181818;stroke-width:1.0;\"/><line style=\"stroke:#181818;stroke-width:1.0;\" x1=\"80\" x2=\"80\" y1=\"299.8438\" y2=\"319.8438\"/><polygon fill=\"#181818\" points=\"76,309.8438,80,319.8438,84,309.8438,80,313.8438\" style=\"stroke:#181818;stroke-width:1.0;\"/><line style=\"stroke:#181818;stroke-width:1.0;\" x1=\"80\" x2=\"80\" y1=\"353.8125\" y2=\"373.8125\"/><polygon fill=\"#181818\" points=\"76,363.8125,80,373.8125,84,363.8125,80,367.8125\" style=\"stroke:#181818;stroke-width:1.0;\"/><!--SRC=[DSf12e0m30J0Ur-HTzYJz04A1U_LHWdOHj8KlsyKFEtEiasJg1lY6p2d0xq1JznCmhblQiEOCoX3i8zf8Rp_7ljQI66IZ6By4WBNdQGa9QxUDUNBFG00]--></g></svg>"
      ],
      "text/plain": [
       "<IPython.core.display.SVG object>"
      ]
     },
     "execution_count": 35,
     "metadata": {},
     "output_type": "execute_result"
    }
   ],
   "source": [
    "%%plantuml --jar\n",
    "\n",
    "@startuml\n",
    "\n",
    "start\n",
    ":Start Page;\n",
    ":Select Product;\n",
    ":Add to Cart;\n",
    ":View Cart;\n",
    ":Submit Order;\n",
    ":Order Confirmation;\n",
    "stop\n",
    "\n",
    "@enduml\n"
   ]
  },
  {
   "cell_type": "code",
   "execution_count": 36,
   "id": "dcbfea35",
   "metadata": {},
   "outputs": [
    {
     "data": {
      "image/svg+xml": [
       "<svg xmlns=\"http://www.w3.org/2000/svg\" xmlns:xlink=\"http://www.w3.org/1999/xlink\" contentStyleType=\"text/css\" height=\"203px\" preserveAspectRatio=\"none\" style=\"width:941px;height:203px;background:#FFFFFF;\" version=\"1.1\" viewBox=\"0 0 941 203\" width=\"941px\" zoomAndPan=\"magnify\"><defs/><g><!--class Model--><g id=\"elem_Model\"><rect codeLine=\"3\" fill=\"#F1F1F1\" height=\"129.4844\" id=\"Model\" rx=\"2.5\" ry=\"2.5\" style=\"stroke:#181818;stroke-width:0.5;\" width=\"111\" x=\"285\" y=\"66.52\"/><ellipse cx=\"316.65\" cy=\"82.52\" fill=\"#ADD1B2\" rx=\"11\" ry=\"11\" style=\"stroke:#181818;stroke-width:1.0;\"/><path d=\"M319.6188,88.1606 Q319.0406,88.4575 318.4,88.5981 Q317.7594,88.7544 317.0563,88.7544 Q314.5563,88.7544 313.2281,87.1138 Q311.9156,85.4575 311.9156,82.3325 Q311.9156,79.2075 313.2281,77.5513 Q314.5563,75.895 317.0563,75.895 Q317.7594,75.895 318.4,76.0513 Q319.0563,76.2075 319.6188,76.5044 L319.6188,79.2231 Q318.9938,78.645 318.4,78.3794 Q317.8063,78.0981 317.1813,78.0981 Q315.8375,78.0981 315.15,79.1763 Q314.4625,80.2388 314.4625,82.3325 Q314.4625,84.4263 315.15,85.5044 Q315.8375,86.5669 317.1813,86.5669 Q317.8063,86.5669 318.4,86.3013 Q318.9938,86.02 319.6188,85.4419 L319.6188,88.1606 Z \" fill=\"#000000\"/><text fill=\"#000000\" font-family=\"sans-serif\" font-size=\"14\" lengthAdjust=\"spacing\" textLength=\"42\" x=\"334.35\" y=\"87.3667\">Model</text><line style=\"stroke:#181818;stroke-width:0.5;\" x1=\"286\" x2=\"395\" y1=\"98.52\" y2=\"98.52\"/><ellipse cx=\"296\" cy=\"112.1684\" fill=\"none\" rx=\"3\" ry=\"3\" style=\"stroke:#038048;stroke-width:1.0;\"/><text fill=\"#000000\" font-family=\"sans-serif\" font-size=\"14\" lengthAdjust=\"spacing\" textLength=\"85\" x=\"305\" y=\"115.5151\">field1: type1</text><ellipse cx=\"296\" cy=\"128.4653\" fill=\"none\" rx=\"3\" ry=\"3\" style=\"stroke:#038048;stroke-width:1.0;\"/><text fill=\"#000000\" font-family=\"sans-serif\" font-size=\"14\" lengthAdjust=\"spacing\" textLength=\"85\" x=\"305\" y=\"131.812\">field2: type2</text><ellipse cx=\"296\" cy=\"144.7622\" fill=\"none\" rx=\"3\" ry=\"3\" style=\"stroke:#038048;stroke-width:1.0;\"/><text fill=\"#000000\" font-family=\"sans-serif\" font-size=\"14\" lengthAdjust=\"spacing\" textLength=\"85\" x=\"305\" y=\"148.1089\">field3: type3</text><line style=\"stroke:#181818;stroke-width:0.5;\" x1=\"286\" x2=\"395\" y1=\"155.4106\" y2=\"155.4106\"/><ellipse cx=\"296\" cy=\"169.0591\" fill=\"#84BE84\" rx=\"3\" ry=\"3\" style=\"stroke:#038048;stroke-width:1.0;\"/><text fill=\"#000000\" font-family=\"sans-serif\" font-size=\"14\" lengthAdjust=\"spacing\" textLength=\"73\" x=\"305\" y=\"172.4057\">method1()</text><ellipse cx=\"296\" cy=\"185.3559\" fill=\"#84BE84\" rx=\"3\" ry=\"3\" style=\"stroke:#038048;stroke-width:1.0;\"/><text fill=\"#000000\" font-family=\"sans-serif\" font-size=\"14\" lengthAdjust=\"spacing\" textLength=\"73\" x=\"305\" y=\"188.7026\">method2()</text></g><!--class View--><g id=\"elem_View\"><rect codeLine=\"11\" fill=\"#F1F1F1\" height=\"64.2969\" id=\"View\" rx=\"2.5\" ry=\"2.5\" style=\"stroke:#181818;stroke-width:0.5;\" width=\"127\" x=\"591\" y=\"99.02\"/><ellipse cx=\"634.35\" cy=\"115.02\" fill=\"#ADD1B2\" rx=\"11\" ry=\"11\" style=\"stroke:#181818;stroke-width:1.0;\"/><path d=\"M637.3188,120.6606 Q636.7406,120.9575 636.1,121.0981 Q635.4594,121.2544 634.7563,121.2544 Q632.2563,121.2544 630.9281,119.6138 Q629.6156,117.9575 629.6156,114.8325 Q629.6156,111.7075 630.9281,110.0513 Q632.2563,108.395 634.7563,108.395 Q635.4594,108.395 636.1,108.5513 Q636.7563,108.7075 637.3188,109.0044 L637.3188,111.7231 Q636.6938,111.145 636.1,110.8794 Q635.5063,110.5981 634.8813,110.5981 Q633.5375,110.5981 632.85,111.6763 Q632.1625,112.7388 632.1625,114.8325 Q632.1625,116.9263 632.85,118.0044 Q633.5375,119.0669 634.8813,119.0669 Q635.5063,119.0669 636.1,118.8013 Q636.6938,118.52 637.3188,117.9419 L637.3188,120.6606 Z \" fill=\"#000000\"/><text fill=\"#000000\" font-family=\"sans-serif\" font-size=\"14\" lengthAdjust=\"spacing\" textLength=\"32\" x=\"654.65\" y=\"119.8667\">View</text><line style=\"stroke:#181818;stroke-width:0.5;\" x1=\"592\" x2=\"717\" y1=\"131.02\" y2=\"131.02\"/><line style=\"stroke:#181818;stroke-width:0.5;\" x1=\"592\" x2=\"717\" y1=\"139.02\" y2=\"139.02\"/><ellipse cx=\"602\" cy=\"152.6684\" fill=\"#84BE84\" rx=\"3\" ry=\"3\" style=\"stroke:#038048;stroke-width:1.0;\"/><text fill=\"#000000\" font-family=\"sans-serif\" font-size=\"14\" lengthAdjust=\"spacing\" textLength=\"101\" x=\"611\" y=\"156.0151\">view_method()</text></g><!--class Template--><g id=\"elem_Template\"><rect codeLine=\"15\" fill=\"#F1F1F1\" height=\"64.2969\" id=\"Template\" rx=\"2.5\" ry=\"2.5\" style=\"stroke:#181818;stroke-width:0.5;\" width=\"181\" x=\"753\" y=\"99.02\"/><ellipse cx=\"806.75\" cy=\"115.02\" fill=\"#ADD1B2\" rx=\"11\" ry=\"11\" style=\"stroke:#181818;stroke-width:1.0;\"/><path d=\"M809.7188,120.6606 Q809.1406,120.9575 808.5,121.0981 Q807.8594,121.2544 807.1563,121.2544 Q804.6563,121.2544 803.3281,119.6138 Q802.0156,117.9575 802.0156,114.8325 Q802.0156,111.7075 803.3281,110.0513 Q804.6563,108.395 807.1563,108.395 Q807.8594,108.395 808.5,108.5513 Q809.1563,108.7075 809.7188,109.0044 L809.7188,111.7231 Q809.0938,111.145 808.5,110.8794 Q807.9063,110.5981 807.2813,110.5981 Q805.9375,110.5981 805.25,111.6763 Q804.5625,112.7388 804.5625,114.8325 Q804.5625,116.9263 805.25,118.0044 Q805.9375,119.0669 807.2813,119.0669 Q807.9063,119.0669 808.5,118.8013 Q809.0938,118.52 809.7188,117.9419 L809.7188,120.6606 Z \" fill=\"#000000\"/><text fill=\"#000000\" font-family=\"sans-serif\" font-size=\"14\" lengthAdjust=\"spacing\" textLength=\"65\" x=\"827.25\" y=\"119.8667\">Template</text><line style=\"stroke:#181818;stroke-width:0.5;\" x1=\"754\" x2=\"933\" y1=\"131.02\" y2=\"131.02\"/><ellipse cx=\"764\" cy=\"144.6684\" fill=\"none\" rx=\"3\" ry=\"3\" style=\"stroke:#038048;stroke-width:1.0;\"/><text fill=\"#000000\" font-family=\"sans-serif\" font-size=\"14\" lengthAdjust=\"spacing\" textLength=\"155\" x=\"773\" y=\"148.0151\">template_name: string</text><line style=\"stroke:#181818;stroke-width:0.5;\" x1=\"754\" x2=\"933\" y1=\"155.3169\" y2=\"155.3169\"/></g><!--class URL--><g id=\"elem_URL\"><rect codeLine=\"19\" fill=\"#F1F1F1\" height=\"80.5938\" id=\"URL\" rx=\"2.5\" ry=\"2.5\" style=\"stroke:#181818;stroke-width:0.5;\" width=\"124\" x=\"431.5\" y=\"90.52\"/><ellipse cx=\"475.75\" cy=\"106.52\" fill=\"#ADD1B2\" rx=\"11\" ry=\"11\" style=\"stroke:#181818;stroke-width:1.0;\"/><path d=\"M478.7188,112.1606 Q478.1406,112.4575 477.5,112.5981 Q476.8594,112.7544 476.1563,112.7544 Q473.6563,112.7544 472.3281,111.1138 Q471.0156,109.4575 471.0156,106.3325 Q471.0156,103.2075 472.3281,101.5513 Q473.6563,99.895 476.1563,99.895 Q476.8594,99.895 477.5,100.0513 Q478.1563,100.2075 478.7188,100.5044 L478.7188,103.2231 Q478.0938,102.645 477.5,102.3794 Q476.9063,102.0981 476.2813,102.0981 Q474.9375,102.0981 474.25,103.1763 Q473.5625,104.2388 473.5625,106.3325 Q473.5625,108.4263 474.25,109.5044 Q474.9375,110.5669 476.2813,110.5669 Q476.9063,110.5669 477.5,110.3013 Q478.0938,110.02 478.7188,109.4419 L478.7188,112.1606 Z \" fill=\"#000000\"/><text fill=\"#000000\" font-family=\"sans-serif\" font-size=\"14\" lengthAdjust=\"spacing\" textLength=\"27\" x=\"496.25\" y=\"111.3667\">URL</text><line style=\"stroke:#181818;stroke-width:0.5;\" x1=\"432.5\" x2=\"554.5\" y1=\"122.52\" y2=\"122.52\"/><ellipse cx=\"442.5\" cy=\"136.1684\" fill=\"none\" rx=\"3\" ry=\"3\" style=\"stroke:#038048;stroke-width:1.0;\"/><text fill=\"#000000\" font-family=\"sans-serif\" font-size=\"14\" lengthAdjust=\"spacing\" textLength=\"98\" x=\"451.5\" y=\"139.5151\">pattern: string</text><ellipse cx=\"442.5\" cy=\"152.4653\" fill=\"none\" rx=\"3\" ry=\"3\" style=\"stroke:#038048;stroke-width:1.0;\"/><text fill=\"#000000\" font-family=\"sans-serif\" font-size=\"14\" lengthAdjust=\"spacing\" textLength=\"71\" x=\"451.5\" y=\"155.812\">view: View</text><line style=\"stroke:#181818;stroke-width:0.5;\" x1=\"432.5\" x2=\"554.5\" y1=\"163.1138\" y2=\"163.1138\"/></g><!--class Homepage--><g id=\"elem_Homepage\"><rect codeLine=\"24\" fill=\"#F1F1F1\" height=\"96.8906\" id=\"Homepage\" rx=\"2.5\" ry=\"2.5\" style=\"stroke:#181818;stroke-width:0.5;\" width=\"243\" x=\"7\" y=\"82.52\"/><ellipse cx=\"86.25\" cy=\"98.52\" fill=\"#ADD1B2\" rx=\"11\" ry=\"11\" style=\"stroke:#181818;stroke-width:1.0;\"/><path d=\"M89.2188,104.1606 Q88.6406,104.4575 88,104.5981 Q87.3594,104.7544 86.6563,104.7544 Q84.1563,104.7544 82.8281,103.1138 Q81.5156,101.4575 81.5156,98.3325 Q81.5156,95.2075 82.8281,93.5513 Q84.1563,91.895 86.6563,91.895 Q87.3594,91.895 88,92.0513 Q88.6563,92.2075 89.2188,92.5044 L89.2188,95.2231 Q88.5938,94.645 88,94.3794 Q87.4063,94.0981 86.7813,94.0981 Q85.4375,94.0981 84.75,95.1763 Q84.0625,96.2388 84.0625,98.3325 Q84.0625,100.4263 84.75,101.5044 Q85.4375,102.5669 86.7813,102.5669 Q87.4063,102.5669 88,102.3013 Q88.5938,102.02 89.2188,101.4419 L89.2188,104.1606 Z \" fill=\"#000000\"/><text fill=\"#000000\" font-family=\"sans-serif\" font-size=\"14\" lengthAdjust=\"spacing\" textLength=\"76\" x=\"106.75\" y=\"103.3667\">Homepage</text><line style=\"stroke:#181818;stroke-width:0.5;\" x1=\"8\" x2=\"249\" y1=\"114.52\" y2=\"114.52\"/><ellipse cx=\"18\" cy=\"128.1684\" fill=\"none\" rx=\"3\" ry=\"3\" style=\"stroke:#038048;stroke-width:1.0;\"/><text fill=\"#000000\" font-family=\"sans-serif\" font-size=\"14\" lengthAdjust=\"spacing\" textLength=\"217\" x=\"27\" y=\"131.5151\">homepage_template: Template</text><ellipse cx=\"18\" cy=\"144.4653\" fill=\"none\" rx=\"3\" ry=\"3\" style=\"stroke:#038048;stroke-width:1.0;\"/><text fill=\"#000000\" font-family=\"sans-serif\" font-size=\"14\" lengthAdjust=\"spacing\" textLength=\"141\" x=\"27\" y=\"147.812\">product_list: Model[]</text><ellipse cx=\"18\" cy=\"160.7622\" fill=\"none\" rx=\"3\" ry=\"3\" style=\"stroke:#038048;stroke-width:1.0;\"/><text fill=\"#000000\" font-family=\"sans-serif\" font-size=\"14\" lengthAdjust=\"spacing\" textLength=\"159\" x=\"27\" y=\"164.1089\">shopping_cart: Model[]</text><line style=\"stroke:#181818;stroke-width:0.5;\" x1=\"8\" x2=\"249\" y1=\"171.4106\" y2=\"171.4106\"/></g><!--link Model to View--><g id=\"link_Model_View\"><path codeLine=\"30\" d=\"M389.39,66.12 C401.85,54.08 416.23,43.2 432,36.52 C482.74,15.02 504.87,15.96 556,36.52 C585.39,48.34 610.95,73.58 628.66,95.01 \" fill=\"none\" id=\"Model-to-View\" style=\"stroke:#181818;stroke-width:1.0;\"/><polygon fill=\"#181818\" points=\"631.87,98.96,629.282,89.4573,628.71,95.0851,623.0822,94.5132,631.87,98.96\" style=\"stroke:#181818;stroke-width:1.0;\"/></g><!--link View to Template--><g id=\"link_View_Template\"><path codeLine=\"31\" d=\"M718.36,131.02 C728.07,131.02 737.79,131.02 747.5,131.02 \" fill=\"none\" id=\"View-to-Template\" style=\"stroke:#181818;stroke-width:1.0;\"/><polygon fill=\"#181818\" points=\"752.58,131.02,743.58,127.02,747.58,131.02,743.58,135.02,752.58,131.02\" style=\"stroke:#181818;stroke-width:1.0;\"/></g><!--link URL to View--><g id=\"link_URL_View\"><path codeLine=\"32\" d=\"M555.76,131.02 C565.72,131.02 575.69,131.02 585.65,131.02 \" fill=\"none\" id=\"URL-to-View\" style=\"stroke:#181818;stroke-width:1.0;\"/><polygon fill=\"#181818\" points=\"590.86,131.02,581.86,127.02,585.86,131.02,581.86,135.02,590.86,131.02\" style=\"stroke:#181818;stroke-width:1.0;\"/></g><!--link Homepage to Template--><g id=\"link_Homepage_Template\"><path codeLine=\"33\" d=\"M191.08,82.51 C218.35,64.31 251.67,45.8 285,36.52 C377.69,10.7 626.74,6 718,36.52 C752.87,48.18 785.81,73.76 809.19,95.37 \" fill=\"none\" id=\"Homepage-to-Template\" style=\"stroke:#181818;stroke-width:1.0;\"/><polygon fill=\"#181818\" points=\"812.86,98.8,809.011,89.7344,809.2052,95.3879,803.5517,95.5821,812.86,98.8\" style=\"stroke:#181818;stroke-width:1.0;\"/></g><!--link Homepage to Model--><g id=\"link_Homepage_Model\"><path codeLine=\"34\" d=\"M250.23,131.02 C260.04,131.02 269.85,131.02 279.66,131.02 \" fill=\"none\" id=\"Homepage-to-Model\" style=\"stroke:#181818;stroke-width:1.0;\"/><polygon fill=\"#181818\" points=\"284.79,131.02,275.79,127.02,279.79,131.02,275.79,135.02,284.79,131.02\" style=\"stroke:#181818;stroke-width:1.0;\"/></g><!--SRC=[JP0n3u8m48LtVaL7ZN40jWxE3heOTJ6cQTeJI0fjwAannlzkwK5XwtltvRthAIEzPqUhmR1lnjZcqO3HEMVuSP0deo2ZI4P9HZaOBM1jTRvQpw88ufTbAgPV6tXJ-2ky115Bu0ojCnA181oLw6GBd7dicwwQuSlfG9oJYD1tYHZpUUoR-RrjmSbg3Az79QOMdjfZPc_rKw4mZKTEPxdTXu6lhNEXHIZPBoQXXMwttL5j_6iGANHOTngcLPR0qenPVm00]--></g></svg>"
      ],
      "text/plain": [
       "<IPython.core.display.SVG object>"
      ]
     },
     "execution_count": 36,
     "metadata": {},
     "output_type": "execute_result"
    }
   ],
   "source": [
    "%%plantuml --jar\n",
    "\n",
    "\n",
    "@startuml\n",
    "class Model {\n",
    "  +field1: type1\n",
    "  +field2: type2\n",
    "  +field3: type3\n",
    "  +method1()\n",
    "  +method2()\n",
    "}\n",
    "\n",
    "class View {\n",
    "  +view_method()\n",
    "}\n",
    "\n",
    "class Template {\n",
    "  +template_name: string\n",
    "}\n",
    "\n",
    "class URL {\n",
    "  +pattern: string\n",
    "  +view: View\n",
    "}\n",
    "\n",
    "class Homepage {\n",
    "  +homepage_template: Template\n",
    "  +product_list: Model[]\n",
    "  +shopping_cart: Model[]\n",
    "}\n",
    "\n",
    "Model -> View\n",
    "View -> Template\n",
    "URL -> View\n",
    "Homepage -> Template\n",
    "Homepage -> Model\n",
    "@enduml\n"
   ]
  },
  {
   "cell_type": "code",
   "execution_count": 37,
   "id": "950b7716",
   "metadata": {},
   "outputs": [
    {
     "data": {
      "image/svg+xml": [
       "<svg xmlns=\"http://www.w3.org/2000/svg\" xmlns:xlink=\"http://www.w3.org/1999/xlink\" contentStyleType=\"text/css\" height=\"274px\" preserveAspectRatio=\"none\" style=\"width:644px;height:274px;background:#FFFFFF;\" version=\"1.1\" viewBox=\"0 0 644 274\" width=\"644px\" zoomAndPan=\"magnify\"><defs/><g><text fill=\"#000000\" font-family=\"sans-serif\" font-size=\"14\" font-weight=\"bold\" lengthAdjust=\"spacing\" textLength=\"560\" x=\"41\" y=\"27.9951\">Customer selects a product, generates an order, and deletes an order</text><line style=\"stroke:#181818;stroke-width:0.5;stroke-dasharray:5.0,5.0;\" x1=\"46\" x2=\"46\" y1=\"73.5938\" y2=\"239.2578\"/><line style=\"stroke:#181818;stroke-width:0.5;stroke-dasharray:5.0,5.0;\" x1=\"182\" x2=\"182\" y1=\"73.5938\" y2=\"239.2578\"/><line style=\"stroke:#181818;stroke-width:0.5;stroke-dasharray:5.0,5.0;\" x1=\"331.5\" x2=\"331.5\" y1=\"73.5938\" y2=\"239.2578\"/><line style=\"stroke:#181818;stroke-width:0.5;stroke-dasharray:5.0,5.0;\" x1=\"584\" x2=\"584\" y1=\"73.5938\" y2=\"239.2578\"/><rect fill=\"#E2E2F0\" height=\"30.2969\" rx=\"2.5\" ry=\"2.5\" style=\"stroke:#181818;stroke-width:0.5;\" width=\"82\" x=\"5\" y=\"42.2969\"/><text fill=\"#000000\" font-family=\"sans-serif\" font-size=\"14\" lengthAdjust=\"spacing\" textLength=\"68\" x=\"12\" y=\"62.292\">Customer</text><rect fill=\"#E2E2F0\" height=\"30.2969\" rx=\"2.5\" ry=\"2.5\" style=\"stroke:#181818;stroke-width:0.5;\" width=\"82\" x=\"5\" y=\"238.2578\"/><text fill=\"#000000\" font-family=\"sans-serif\" font-size=\"14\" lengthAdjust=\"spacing\" textLength=\"68\" x=\"12\" y=\"258.2529\">Customer</text><rect fill=\"#E2E2F0\" height=\"30.2969\" rx=\"2.5\" ry=\"2.5\" style=\"stroke:#181818;stroke-width:0.5;\" width=\"68\" x=\"148\" y=\"42.2969\"/><text fill=\"#000000\" font-family=\"sans-serif\" font-size=\"14\" lengthAdjust=\"spacing\" textLength=\"54\" x=\"155\" y=\"62.292\">Product</text><rect fill=\"#E2E2F0\" height=\"30.2969\" rx=\"2.5\" ry=\"2.5\" style=\"stroke:#181818;stroke-width:0.5;\" width=\"68\" x=\"148\" y=\"238.2578\"/><text fill=\"#000000\" font-family=\"sans-serif\" font-size=\"14\" lengthAdjust=\"spacing\" textLength=\"54\" x=\"155\" y=\"258.2529\">Product</text><rect fill=\"#E2E2F0\" height=\"30.2969\" rx=\"2.5\" ry=\"2.5\" style=\"stroke:#181818;stroke-width:0.5;\" width=\"53\" x=\"305.5\" y=\"42.2969\"/><text fill=\"#000000\" font-family=\"sans-serif\" font-size=\"14\" lengthAdjust=\"spacing\" textLength=\"39\" x=\"312.5\" y=\"62.292\">Order</text><rect fill=\"#E2E2F0\" height=\"30.2969\" rx=\"2.5\" ry=\"2.5\" style=\"stroke:#181818;stroke-width:0.5;\" width=\"53\" x=\"305.5\" y=\"238.2578\"/><text fill=\"#000000\" font-family=\"sans-serif\" font-size=\"14\" lengthAdjust=\"spacing\" textLength=\"39\" x=\"312.5\" y=\"258.2529\">Order</text><rect fill=\"#E2E2F0\" height=\"30.2969\" rx=\"2.5\" ry=\"2.5\" style=\"stroke:#181818;stroke-width:0.5;\" width=\"108\" x=\"530\" y=\"42.2969\"/><text fill=\"#000000\" font-family=\"sans-serif\" font-size=\"14\" lengthAdjust=\"spacing\" textLength=\"94\" x=\"537\" y=\"62.292\">ShoppingCart</text><rect fill=\"#E2E2F0\" height=\"30.2969\" rx=\"2.5\" ry=\"2.5\" style=\"stroke:#181818;stroke-width:0.5;\" width=\"108\" x=\"530\" y=\"238.2578\"/><text fill=\"#000000\" font-family=\"sans-serif\" font-size=\"14\" lengthAdjust=\"spacing\" textLength=\"94\" x=\"537\" y=\"258.2529\">ShoppingCart</text><polygon fill=\"#181818\" points=\"170,100.7266,180,104.7266,170,108.7266,174,104.7266\" style=\"stroke:#181818;stroke-width:1.0;\"/><line style=\"stroke:#181818;stroke-width:1.0;\" x1=\"46\" x2=\"176\" y1=\"104.7266\" y2=\"104.7266\"/><text fill=\"#000000\" font-family=\"sans-serif\" font-size=\"13\" lengthAdjust=\"spacing\" textLength=\"112\" x=\"53\" y=\"99.6606\">Selects a product</text><polygon fill=\"#181818\" points=\"320,129.8594,330,133.8594,320,137.8594,324,133.8594\" style=\"stroke:#181818;stroke-width:1.0;\"/><line style=\"stroke:#181818;stroke-width:1.0;\" x1=\"182\" x2=\"326\" y1=\"133.8594\" y2=\"133.8594\"/><text fill=\"#000000\" font-family=\"sans-serif\" font-size=\"13\" lengthAdjust=\"spacing\" textLength=\"125\" x=\"189\" y=\"128.7935\">Generates an order</text><polygon fill=\"#181818\" points=\"572,158.9922,582,162.9922,572,166.9922,576,162.9922\" style=\"stroke:#181818;stroke-width:1.0;\"/><line style=\"stroke:#181818;stroke-width:1.0;\" x1=\"332\" x2=\"578\" y1=\"162.9922\" y2=\"162.9922\"/><text fill=\"#000000\" font-family=\"sans-serif\" font-size=\"13\" lengthAdjust=\"spacing\" textLength=\"228\" x=\"339\" y=\"157.9263\">Adds the order to the shopping cart</text><polygon fill=\"#181818\" points=\"572,188.125,582,192.125,572,196.125,576,192.125\" style=\"stroke:#181818;stroke-width:1.0;\"/><line style=\"stroke:#181818;stroke-width:1.0;\" x1=\"46\" x2=\"578\" y1=\"192.125\" y2=\"192.125\"/><text fill=\"#000000\" font-family=\"sans-serif\" font-size=\"13\" lengthAdjust=\"spacing\" textLength=\"152\" x=\"53\" y=\"187.0591\">Views the shopping cart</text><polygon fill=\"#181818\" points=\"320,217.2578,330,221.2578,320,225.2578,324,221.2578\" style=\"stroke:#181818;stroke-width:1.0;\"/><line style=\"stroke:#181818;stroke-width:1.0;\" x1=\"46\" x2=\"326\" y1=\"221.2578\" y2=\"221.2578\"/><text fill=\"#000000\" font-family=\"sans-serif\" font-size=\"13\" lengthAdjust=\"spacing\" textLength=\"262\" x=\"53\" y=\"216.1919\">Deletes the order from the shopping cart</text><!--SRC=[XP112i8m44NtSuevGBr05u9KSAbGS1-IiGsqIKYczFgcQQof2kwIF___UGnh7WYRAR0ToMEWWIG75EYyLPFa2Ziov0LJ50rQhyXNyQLGHMkf0e0JdhNKJXZUAdVYRItTQTSKBfMsjyvfqpLH0zZO3iTNliRsanFoQ76bnXelN-2G9ekbN57ZIQc0tDFgGhRf4x87vS9HOkpJTqrp-9F8IETyi_UkXxVZZ-mJ]--></g></svg>"
      ],
      "text/plain": [
       "<IPython.core.display.SVG object>"
      ]
     },
     "execution_count": 37,
     "metadata": {},
     "output_type": "execute_result"
    }
   ],
   "source": [
    "%%plantuml --jar\n",
    "\n",
    "@startuml\n",
    "title Customer selects a product, generates an order, and deletes an order\n",
    "\n",
    "\n",
    "participant Customer\n",
    "participant Product\n",
    "participant Order\n",
    "participant ShoppingCart\n",
    "\n",
    "Customer -> Product: Selects a product\n",
    "Product -> Order: Generates an order\n",
    "Order -> ShoppingCart: Adds the order to the shopping cart\n",
    "Customer -> ShoppingCart: Views the shopping cart\n",
    "Customer -> Order: Deletes the order from the shopping cart\n",
    "\n",
    "@enduml\n"
   ]
  },
  {
   "cell_type": "code",
   "execution_count": 38,
   "id": "7650ef9b",
   "metadata": {
    "scrolled": true
   },
   "outputs": [
    {
     "data": {
      "image/svg+xml": [
       "<svg xmlns=\"http://www.w3.org/2000/svg\" xmlns:xlink=\"http://www.w3.org/1999/xlink\" contentStyleType=\"text/css\" height=\"303px\" preserveAspectRatio=\"none\" style=\"width:1034px;height:303px;background:#FFFFFF;\" version=\"1.1\" viewBox=\"0 0 1034 303\" width=\"1034px\" zoomAndPan=\"magnify\"><defs/><g><text fill=\"#000000\" font-family=\"sans-serif\" font-size=\"14\" font-weight=\"bold\" lengthAdjust=\"spacing\" textLength=\"326\" x=\"353\" y=\"27.9951\">URL Routing for the E-commerce Website</text><line style=\"stroke:#181818;stroke-width:0.5;stroke-dasharray:5.0,5.0;\" x1=\"28\" x2=\"28\" y1=\"73.5938\" y2=\"268.3906\"/><line style=\"stroke:#181818;stroke-width:0.5;stroke-dasharray:5.0,5.0;\" x1=\"151.5\" x2=\"151.5\" y1=\"73.5938\" y2=\"268.3906\"/><line style=\"stroke:#181818;stroke-width:0.5;stroke-dasharray:5.0,5.0;\" x1=\"384\" x2=\"384\" y1=\"73.5938\" y2=\"268.3906\"/><line style=\"stroke:#181818;stroke-width:0.5;stroke-dasharray:5.0,5.0;\" x1=\"524\" x2=\"524\" y1=\"73.5938\" y2=\"268.3906\"/><line style=\"stroke:#181818;stroke-width:0.5;stroke-dasharray:5.0,5.0;\" x1=\"674\" x2=\"674\" y1=\"73.5938\" y2=\"268.3906\"/><line style=\"stroke:#181818;stroke-width:0.5;stroke-dasharray:5.0,5.0;\" x1=\"820\" x2=\"820\" y1=\"73.5938\" y2=\"268.3906\"/><line style=\"stroke:#181818;stroke-width:0.5;stroke-dasharray:5.0,5.0;\" x1=\"962\" x2=\"962\" y1=\"73.5938\" y2=\"268.3906\"/><rect fill=\"#E2E2F0\" height=\"30.2969\" rx=\"2.5\" ry=\"2.5\" style=\"stroke:#181818;stroke-width:0.5;\" width=\"46\" x=\"5\" y=\"42.2969\"/><text fill=\"#000000\" font-family=\"sans-serif\" font-size=\"14\" lengthAdjust=\"spacing\" textLength=\"32\" x=\"12\" y=\"62.292\">User</text><rect fill=\"#E2E2F0\" height=\"30.2969\" rx=\"2.5\" ry=\"2.5\" style=\"stroke:#181818;stroke-width:0.5;\" width=\"46\" x=\"5\" y=\"267.3906\"/><text fill=\"#000000\" font-family=\"sans-serif\" font-size=\"14\" lengthAdjust=\"spacing\" textLength=\"32\" x=\"12\" y=\"287.3857\">User</text><rect fill=\"#E2E2F0\" height=\"30.2969\" rx=\"2.5\" ry=\"2.5\" style=\"stroke:#181818;stroke-width:0.5;\" width=\"61\" x=\"121.5\" y=\"42.2969\"/><text fill=\"#000000\" font-family=\"sans-serif\" font-size=\"14\" lengthAdjust=\"spacing\" textLength=\"47\" x=\"128.5\" y=\"62.292\">Router</text><rect fill=\"#E2E2F0\" height=\"30.2969\" rx=\"2.5\" ry=\"2.5\" style=\"stroke:#181818;stroke-width:0.5;\" width=\"61\" x=\"121.5\" y=\"267.3906\"/><text fill=\"#000000\" font-family=\"sans-serif\" font-size=\"14\" lengthAdjust=\"spacing\" textLength=\"47\" x=\"128.5\" y=\"287.3857\">Router</text><rect fill=\"#E2E2F0\" height=\"30.2969\" rx=\"2.5\" ry=\"2.5\" style=\"stroke:#181818;stroke-width:0.5;\" width=\"122\" x=\"323\" y=\"42.2969\"/><text fill=\"#000000\" font-family=\"sans-serif\" font-size=\"14\" lengthAdjust=\"spacing\" textLength=\"108\" x=\"330\" y=\"62.292\">HomepageView</text><rect fill=\"#E2E2F0\" height=\"30.2969\" rx=\"2.5\" ry=\"2.5\" style=\"stroke:#181818;stroke-width:0.5;\" width=\"122\" x=\"323\" y=\"267.3906\"/><text fill=\"#000000\" font-family=\"sans-serif\" font-size=\"14\" lengthAdjust=\"spacing\" textLength=\"108\" x=\"330\" y=\"287.3857\">HomepageView</text><rect fill=\"#E2E2F0\" height=\"30.2969\" rx=\"2.5\" ry=\"2.5\" style=\"stroke:#181818;stroke-width:0.5;\" width=\"139\" x=\"455\" y=\"42.2969\"/><text fill=\"#000000\" font-family=\"sans-serif\" font-size=\"14\" lengthAdjust=\"spacing\" textLength=\"125\" x=\"462\" y=\"62.292\">ProductDetailView</text><rect fill=\"#E2E2F0\" height=\"30.2969\" rx=\"2.5\" ry=\"2.5\" style=\"stroke:#181818;stroke-width:0.5;\" width=\"139\" x=\"455\" y=\"267.3906\"/><text fill=\"#000000\" font-family=\"sans-serif\" font-size=\"14\" lengthAdjust=\"spacing\" textLength=\"125\" x=\"462\" y=\"287.3857\">ProductDetailView</text><rect fill=\"#E2E2F0\" height=\"30.2969\" rx=\"2.5\" ry=\"2.5\" style=\"stroke:#181818;stroke-width:0.5;\" width=\"140\" x=\"604\" y=\"42.2969\"/><text fill=\"#000000\" font-family=\"sans-serif\" font-size=\"14\" lengthAdjust=\"spacing\" textLength=\"126\" x=\"611\" y=\"62.292\">ShoppingCartView</text><rect fill=\"#E2E2F0\" height=\"30.2969\" rx=\"2.5\" ry=\"2.5\" style=\"stroke:#181818;stroke-width:0.5;\" width=\"140\" x=\"604\" y=\"267.3906\"/><text fill=\"#000000\" font-family=\"sans-serif\" font-size=\"14\" lengthAdjust=\"spacing\" textLength=\"126\" x=\"611\" y=\"287.3857\">ShoppingCartView</text><rect fill=\"#E2E2F0\" height=\"30.2969\" rx=\"2.5\" ry=\"2.5\" style=\"stroke:#181818;stroke-width:0.5;\" width=\"133\" x=\"754\" y=\"42.2969\"/><text fill=\"#000000\" font-family=\"sans-serif\" font-size=\"14\" lengthAdjust=\"spacing\" textLength=\"119\" x=\"761\" y=\"62.292\">SubmitOrderView</text><rect fill=\"#E2E2F0\" height=\"30.2969\" rx=\"2.5\" ry=\"2.5\" style=\"stroke:#181818;stroke-width:0.5;\" width=\"133\" x=\"754\" y=\"267.3906\"/><text fill=\"#000000\" font-family=\"sans-serif\" font-size=\"14\" lengthAdjust=\"spacing\" textLength=\"119\" x=\"761\" y=\"287.3857\">SubmitOrderView</text><rect fill=\"#E2E2F0\" height=\"30.2969\" rx=\"2.5\" ry=\"2.5\" style=\"stroke:#181818;stroke-width:0.5;\" width=\"131\" x=\"897\" y=\"42.2969\"/><text fill=\"#000000\" font-family=\"sans-serif\" font-size=\"14\" lengthAdjust=\"spacing\" textLength=\"117\" x=\"904\" y=\"62.292\">DeleteOrderView</text><rect fill=\"#E2E2F0\" height=\"30.2969\" rx=\"2.5\" ry=\"2.5\" style=\"stroke:#181818;stroke-width:0.5;\" width=\"131\" x=\"897\" y=\"267.3906\"/><text fill=\"#000000\" font-family=\"sans-serif\" font-size=\"14\" lengthAdjust=\"spacing\" textLength=\"117\" x=\"904\" y=\"287.3857\">DeleteOrderView</text><polygon fill=\"#181818\" points=\"140,100.7266,150,104.7266,140,108.7266,144,104.7266\" style=\"stroke:#181818;stroke-width:1.0;\"/><line style=\"stroke:#181818;stroke-width:1.0;\" x1=\"28\" x2=\"146\" y1=\"104.7266\" y2=\"104.7266\"/><text fill=\"#000000\" font-family=\"sans-serif\" font-size=\"13\" lengthAdjust=\"spacing\" textLength=\"100\" x=\"35\" y=\"99.6606\">Requests a URL</text><polygon fill=\"#181818\" points=\"372,129.8594,382,133.8594,372,137.8594,376,133.8594\" style=\"stroke:#181818;stroke-width:1.0;\"/><line style=\"stroke:#181818;stroke-width:1.0;\" x1=\"152\" x2=\"378\" y1=\"133.8594\" y2=\"133.8594\"/><text fill=\"#000000\" font-family=\"sans-serif\" font-size=\"13\" lengthAdjust=\"spacing\" textLength=\"208\" x=\"159\" y=\"128.7935\">Matches URL to Homepage View</text><polygon fill=\"#181818\" points=\"512.5,158.9922,522.5,162.9922,512.5,166.9922,516.5,162.9922\" style=\"stroke:#181818;stroke-width:1.0;\"/><line style=\"stroke:#181818;stroke-width:1.0;\" x1=\"152\" x2=\"518.5\" y1=\"162.9922\" y2=\"162.9922\"/><text fill=\"#000000\" font-family=\"sans-serif\" font-size=\"13\" lengthAdjust=\"spacing\" textLength=\"227\" x=\"159\" y=\"157.9263\">Matches URL to Product Detail View</text><polygon fill=\"#181818\" points=\"662,188.125,672,192.125,662,196.125,666,192.125\" style=\"stroke:#181818;stroke-width:1.0;\"/><line style=\"stroke:#181818;stroke-width:1.0;\" x1=\"152\" x2=\"668\" y1=\"192.125\" y2=\"192.125\"/><text fill=\"#000000\" font-family=\"sans-serif\" font-size=\"13\" lengthAdjust=\"spacing\" textLength=\"228\" x=\"159\" y=\"187.0591\">Matches URL to Shopping Cart View</text><polygon fill=\"#181818\" points=\"808.5,217.2578,818.5,221.2578,808.5,225.2578,812.5,221.2578\" style=\"stroke:#181818;stroke-width:1.0;\"/><line style=\"stroke:#181818;stroke-width:1.0;\" x1=\"152\" x2=\"814.5\" y1=\"221.2578\" y2=\"221.2578\"/><text fill=\"#000000\" font-family=\"sans-serif\" font-size=\"13\" lengthAdjust=\"spacing\" textLength=\"223\" x=\"159\" y=\"216.1919\">Matches URL to Submit Order View</text><polygon fill=\"#181818\" points=\"950.5,246.3906,960.5,250.3906,950.5,254.3906,954.5,250.3906\" style=\"stroke:#181818;stroke-width:1.0;\"/><line style=\"stroke:#181818;stroke-width:1.0;\" x1=\"152\" x2=\"956.5\" y1=\"250.3906\" y2=\"250.3906\"/><text fill=\"#000000\" font-family=\"sans-serif\" font-size=\"13\" lengthAdjust=\"spacing\" textLength=\"219\" x=\"159\" y=\"245.3247\">Matches URL to Delete Order View</text><!--SRC=[PP1D3e8m48Ntd68ku0LOk54J5neD1btN-eGcO6ixnEjBmH_eRD_tlidCiE46L1OxAcp7vb7HtNhY6hHPQDksy1fqmJKOHfOvvTbeuzI3gGpmio0EIAAjRU5KXRF1QmQEtjuwpMkmCesWfzewr- -owZC9ksjh-E1ly8AjqO3nPrbSaXRBpsuv5NXs21n8nPkpCOw5wQOvxHNh6c7u2ziVf67eNn9N2FFJeB6I-kcTGlyMA3Q4FN-4b0TEGo5raqS9T-HJzmq0]--></g></svg>"
      ],
      "text/plain": [
       "<IPython.core.display.SVG object>"
      ]
     },
     "execution_count": 38,
     "metadata": {},
     "output_type": "execute_result"
    }
   ],
   "source": [
    "%%plantuml --jar\n",
    "\n",
    "@startuml\n",
    "title URL Routing for the E-commerce Website\n",
    "\n",
    "participant User\n",
    "participant Router\n",
    "participant HomepageView\n",
    "participant ProductDetailView\n",
    "participant ShoppingCartView\n",
    "participant SubmitOrderView\n",
    "participant DeleteOrderView\n",
    "\n",
    "User -> Router: Requests a URL\n",
    "Router -> HomepageView: Matches URL to Homepage View\n",
    "Router -> ProductDetailView: Matches URL to Product Detail View\n",
    "Router -> ShoppingCartView: Matches URL to Shopping Cart View\n",
    "Router -> SubmitOrderView: Matches URL to Submit Order View\n",
    "Router -> DeleteOrderView: Matches URL to Delete Order View\n",
    "\n",
    "@enduml\n"
   ]
  },
  {
   "cell_type": "code",
   "execution_count": 39,
   "id": "46a69d28",
   "metadata": {},
   "outputs": [
    {
     "data": {
      "image/svg+xml": [
       "<svg xmlns=\"http://www.w3.org/2000/svg\" xmlns:xlink=\"http://www.w3.org/1999/xlink\" contentStyleType=\"text/css\" height=\"333px\" preserveAspectRatio=\"none\" style=\"width:822px;height:333px;background:#FFFFFF;\" version=\"1.1\" viewBox=\"0 0 822 333\" width=\"822px\" zoomAndPan=\"magnify\"><defs/><g><!--class ProductDetailView--><g id=\"elem_ProductDetailView\"><rect codeLine=\"3\" fill=\"#F1F1F1\" height=\"96.8906\" id=\"ProductDetailView\" rx=\"2.5\" ry=\"2.5\" style=\"stroke:#181818;stroke-width:0.5;\" width=\"420\" x=\"7\" y=\"31.5\"/><ellipse cx=\"150.25\" cy=\"47.5\" fill=\"#ADD1B2\" rx=\"11\" ry=\"11\" style=\"stroke:#181818;stroke-width:1.0;\"/><path d=\"M153.2188,53.1406 Q152.6406,53.4375 152,53.5781 Q151.3594,53.7344 150.6563,53.7344 Q148.1563,53.7344 146.8281,52.0938 Q145.5156,50.4375 145.5156,47.3125 Q145.5156,44.1875 146.8281,42.5313 Q148.1563,40.875 150.6563,40.875 Q151.3594,40.875 152,41.0313 Q152.6563,41.1875 153.2188,41.4844 L153.2188,44.2031 Q152.5938,43.625 152,43.3594 Q151.4063,43.0781 150.7813,43.0781 Q149.4375,43.0781 148.75,44.1563 Q148.0625,45.2188 148.0625,47.3125 Q148.0625,49.4063 148.75,50.4844 Q149.4375,51.5469 150.7813,51.5469 Q151.4063,51.5469 152,51.2813 Q152.5938,51 153.2188,50.4219 L153.2188,53.1406 Z \" fill=\"#000000\"/><text fill=\"#000000\" font-family=\"sans-serif\" font-size=\"14\" lengthAdjust=\"spacing\" textLength=\"125\" x=\"170.75\" y=\"52.3467\">ProductDetailView</text><line style=\"stroke:#181818;stroke-width:0.5;\" x1=\"8\" x2=\"426\" y1=\"63.5\" y2=\"63.5\"/><ellipse cx=\"18\" cy=\"77.1484\" fill=\"none\" rx=\"3\" ry=\"3\" style=\"stroke:#038048;stroke-width:1.0;\"/><text fill=\"#000000\" font-family=\"sans-serif\" font-size=\"14\" lengthAdjust=\"spacing\" textLength=\"38\" x=\"27\" y=\"80.4951\">id: int</text><ellipse cx=\"18\" cy=\"93.4453\" fill=\"none\" rx=\"3\" ry=\"3\" style=\"stroke:#038048;stroke-width:1.0;\"/><text fill=\"#000000\" font-family=\"sans-serif\" font-size=\"14\" lengthAdjust=\"spacing\" textLength=\"117\" x=\"27\" y=\"96.792\">product: Product</text><line style=\"stroke:#181818;stroke-width:0.5;\" x1=\"8\" x2=\"426\" y1=\"104.0938\" y2=\"104.0938\"/><ellipse cx=\"18\" cy=\"117.7422\" fill=\"#84BE84\" rx=\"3\" ry=\"3\" style=\"stroke:#038048;stroke-width:1.0;\"/><text fill=\"#000000\" font-family=\"sans-serif\" font-size=\"14\" lengthAdjust=\"spacing\" textLength=\"394\" x=\"27\" y=\"121.0889\">render(request, template_name, context): HttpResponse</text></g><!--class Product--><g id=\"elem_Product\"><rect codeLine=\"9\" fill=\"#F1F1F1\" height=\"145.7813\" id=\"Product\" rx=\"2.5\" ry=\"2.5\" style=\"stroke:#181818;stroke-width:0.5;\" width=\"224\" x=\"462\" y=\"7\"/><ellipse cx=\"542.75\" cy=\"23\" fill=\"#ADD1B2\" rx=\"11\" ry=\"11\" style=\"stroke:#181818;stroke-width:1.0;\"/><path d=\"M545.7188,28.6406 Q545.1406,28.9375 544.5,29.0781 Q543.8594,29.2344 543.1563,29.2344 Q540.6563,29.2344 539.3281,27.5938 Q538.0156,25.9375 538.0156,22.8125 Q538.0156,19.6875 539.3281,18.0313 Q540.6563,16.375 543.1563,16.375 Q543.8594,16.375 544.5,16.5313 Q545.1563,16.6875 545.7188,16.9844 L545.7188,19.7031 Q545.0938,19.125 544.5,18.8594 Q543.9063,18.5781 543.2813,18.5781 Q541.9375,18.5781 541.25,19.6563 Q540.5625,20.7188 540.5625,22.8125 Q540.5625,24.9063 541.25,25.9844 Q541.9375,27.0469 543.2813,27.0469 Q543.9063,27.0469 544.5,26.7813 Q545.0938,26.5 545.7188,25.9219 L545.7188,28.6406 Z \" fill=\"#000000\"/><text fill=\"#000000\" font-family=\"sans-serif\" font-size=\"14\" lengthAdjust=\"spacing\" textLength=\"54\" x=\"563.25\" y=\"27.8467\">Product</text><line style=\"stroke:#181818;stroke-width:0.5;\" x1=\"463\" x2=\"685\" y1=\"39\" y2=\"39\"/><ellipse cx=\"473\" cy=\"52.6484\" fill=\"none\" rx=\"3\" ry=\"3\" style=\"stroke:#038048;stroke-width:1.0;\"/><text fill=\"#000000\" font-family=\"sans-serif\" font-size=\"14\" lengthAdjust=\"spacing\" textLength=\"38\" x=\"482\" y=\"55.9951\">id: int</text><ellipse cx=\"473\" cy=\"68.9453\" fill=\"none\" rx=\"3\" ry=\"3\" style=\"stroke:#038048;stroke-width:1.0;\"/><text fill=\"#000000\" font-family=\"sans-serif\" font-size=\"14\" lengthAdjust=\"spacing\" textLength=\"66\" x=\"482\" y=\"72.292\">name: str</text><ellipse cx=\"473\" cy=\"85.2422\" fill=\"none\" rx=\"3\" ry=\"3\" style=\"stroke:#038048;stroke-width:1.0;\"/><text fill=\"#000000\" font-family=\"sans-serif\" font-size=\"14\" lengthAdjust=\"spacing\" textLength=\"104\" x=\"482\" y=\"88.5889\">description: str</text><ellipse cx=\"473\" cy=\"101.5391\" fill=\"none\" rx=\"3\" ry=\"3\" style=\"stroke:#038048;stroke-width:1.0;\"/><text fill=\"#000000\" font-family=\"sans-serif\" font-size=\"14\" lengthAdjust=\"spacing\" textLength=\"72\" x=\"482\" y=\"104.8857\">price: float</text><ellipse cx=\"473\" cy=\"117.8359\" fill=\"none\" rx=\"3\" ry=\"3\" style=\"stroke:#038048;stroke-width:1.0;\"/><text fill=\"#000000\" font-family=\"sans-serif\" font-size=\"14\" lengthAdjust=\"spacing\" textLength=\"131\" x=\"482\" y=\"121.1826\">category: Category</text><ellipse cx=\"473\" cy=\"134.1328\" fill=\"none\" rx=\"3\" ry=\"3\" style=\"stroke:#038048;stroke-width:1.0;\"/><text fill=\"#000000\" font-family=\"sans-serif\" font-size=\"14\" lengthAdjust=\"spacing\" textLength=\"198\" x=\"482\" y=\"137.4795\">comments: List&lt;Comment&gt;</text><line style=\"stroke:#181818;stroke-width:0.5;\" x1=\"463\" x2=\"685\" y1=\"144.7813\" y2=\"144.7813\"/></g><!--class Category--><g id=\"elem_Category\"><rect codeLine=\"18\" fill=\"#F1F1F1\" height=\"80.5938\" id=\"Category\" rx=\"2.5\" ry=\"2.5\" style=\"stroke:#181818;stroke-width:0.5;\" width=\"94\" x=\"721\" y=\"39.5\"/><ellipse cx=\"736\" cy=\"55.5\" fill=\"#ADD1B2\" rx=\"11\" ry=\"11\" style=\"stroke:#181818;stroke-width:1.0;\"/><path d=\"M738.9688,61.1406 Q738.3906,61.4375 737.75,61.5781 Q737.1094,61.7344 736.4063,61.7344 Q733.9063,61.7344 732.5781,60.0938 Q731.2656,58.4375 731.2656,55.3125 Q731.2656,52.1875 732.5781,50.5313 Q733.9063,48.875 736.4063,48.875 Q737.1094,48.875 737.75,49.0313 Q738.4063,49.1875 738.9688,49.4844 L738.9688,52.2031 Q738.3438,51.625 737.75,51.3594 Q737.1563,51.0781 736.5313,51.0781 Q735.1875,51.0781 734.5,52.1563 Q733.8125,53.2188 733.8125,55.3125 Q733.8125,57.4063 734.5,58.4844 Q735.1875,59.5469 736.5313,59.5469 Q737.1563,59.5469 737.75,59.2813 Q738.3438,59 738.9688,58.4219 L738.9688,61.1406 Z \" fill=\"#000000\"/><text fill=\"#000000\" font-family=\"sans-serif\" font-size=\"14\" lengthAdjust=\"spacing\" textLength=\"62\" x=\"750\" y=\"60.3467\">Category</text><line style=\"stroke:#181818;stroke-width:0.5;\" x1=\"722\" x2=\"814\" y1=\"71.5\" y2=\"71.5\"/><ellipse cx=\"732\" cy=\"85.1484\" fill=\"none\" rx=\"3\" ry=\"3\" style=\"stroke:#038048;stroke-width:1.0;\"/><text fill=\"#000000\" font-family=\"sans-serif\" font-size=\"14\" lengthAdjust=\"spacing\" textLength=\"38\" x=\"741\" y=\"88.4951\">id: int</text><ellipse cx=\"732\" cy=\"101.4453\" fill=\"none\" rx=\"3\" ry=\"3\" style=\"stroke:#038048;stroke-width:1.0;\"/><text fill=\"#000000\" font-family=\"sans-serif\" font-size=\"14\" lengthAdjust=\"spacing\" textLength=\"66\" x=\"741\" y=\"104.792\">name: str</text><line style=\"stroke:#181818;stroke-width:0.5;\" x1=\"722\" x2=\"814\" y1=\"112.0938\" y2=\"112.0938\"/></g><!--class Comment--><g id=\"elem_Comment\"><rect codeLine=\"23\" fill=\"#F1F1F1\" height=\"113.1875\" id=\"Comment\" rx=\"2.5\" ry=\"2.5\" style=\"stroke:#181818;stroke-width:0.5;\" width=\"169\" x=\"489.5\" y=\"213\"/><ellipse cx=\"535.75\" cy=\"229\" fill=\"#ADD1B2\" rx=\"11\" ry=\"11\" style=\"stroke:#181818;stroke-width:1.0;\"/><path d=\"M538.7188,234.6406 Q538.1406,234.9375 537.5,235.0781 Q536.8594,235.2344 536.1563,235.2344 Q533.6563,235.2344 532.3281,233.5938 Q531.0156,231.9375 531.0156,228.8125 Q531.0156,225.6875 532.3281,224.0313 Q533.6563,222.375 536.1563,222.375 Q536.8594,222.375 537.5,222.5313 Q538.1563,222.6875 538.7188,222.9844 L538.7188,225.7031 Q538.0938,225.125 537.5,224.8594 Q536.9063,224.5781 536.2813,224.5781 Q534.9375,224.5781 534.25,225.6563 Q533.5625,226.7188 533.5625,228.8125 Q533.5625,230.9063 534.25,231.9844 Q534.9375,233.0469 536.2813,233.0469 Q536.9063,233.0469 537.5,232.7813 Q538.0938,232.5 538.7188,231.9219 L538.7188,234.6406 Z \" fill=\"#000000\"/><text fill=\"#000000\" font-family=\"sans-serif\" font-size=\"14\" lengthAdjust=\"spacing\" textLength=\"68\" x=\"556.25\" y=\"233.8467\">Comment</text><line style=\"stroke:#181818;stroke-width:0.5;\" x1=\"490.5\" x2=\"657.5\" y1=\"245\" y2=\"245\"/><ellipse cx=\"500.5\" cy=\"258.6484\" fill=\"none\" rx=\"3\" ry=\"3\" style=\"stroke:#038048;stroke-width:1.0;\"/><text fill=\"#000000\" font-family=\"sans-serif\" font-size=\"14\" lengthAdjust=\"spacing\" textLength=\"38\" x=\"509.5\" y=\"261.9951\">id: int</text><ellipse cx=\"500.5\" cy=\"274.9453\" fill=\"none\" rx=\"3\" ry=\"3\" style=\"stroke:#038048;stroke-width:1.0;\"/><text fill=\"#000000\" font-family=\"sans-serif\" font-size=\"14\" lengthAdjust=\"spacing\" textLength=\"53\" x=\"509.5\" y=\"278.292\">text: str</text><ellipse cx=\"500.5\" cy=\"291.2422\" fill=\"none\" rx=\"3\" ry=\"3\" style=\"stroke:#038048;stroke-width:1.0;\"/><text fill=\"#000000\" font-family=\"sans-serif\" font-size=\"14\" lengthAdjust=\"spacing\" textLength=\"72\" x=\"509.5\" y=\"294.5889\">author: str</text><ellipse cx=\"500.5\" cy=\"307.5391\" fill=\"none\" rx=\"3\" ry=\"3\" style=\"stroke:#038048;stroke-width:1.0;\"/><text fill=\"#000000\" font-family=\"sans-serif\" font-size=\"14\" lengthAdjust=\"spacing\" textLength=\"143\" x=\"509.5\" y=\"310.8857\">created_at: datetime</text><line style=\"stroke:#181818;stroke-width:0.5;\" x1=\"490.5\" x2=\"657.5\" y1=\"318.1875\" y2=\"318.1875\"/></g><!--link ProductDetailView to Product--><g id=\"link_ProductDetailView_Product\"><path codeLine=\"30\" d=\"M427.23,80 C437.07,80 446.92,80 456.76,80 \" fill=\"none\" id=\"ProductDetailView-to-Product\" style=\"stroke:#181818;stroke-width:1.0;\"/><polygon fill=\"#181818\" points=\"461.91,80,452.91,76,456.91,80,452.91,84,461.91,80\" style=\"stroke:#181818;stroke-width:1.0;\"/></g><!--link Product to Category--><g id=\"link_Product_Category\"><path codeLine=\"31\" d=\"M686.16,80 C695.96,80 705.76,80 715.56,80 \" fill=\"none\" id=\"Product-to-Category\" style=\"stroke:#181818;stroke-width:1.0;\"/><polygon fill=\"#181818\" points=\"720.68,80,711.68,76,715.68,80,711.68,84,720.68,80\" style=\"stroke:#181818;stroke-width:1.0;\"/></g><!--link Product to Comment--><g id=\"link_Product_Comment\"><path codeLine=\"32\" d=\"M574,153.22 C574,171.17 574,190.24 574,207.58 \" fill=\"none\" id=\"Product-to-Comment\" style=\"stroke:#181818;stroke-width:1.0;\"/><polygon fill=\"#181818\" points=\"574,212.91,578,203.91,574,207.91,570,203.91,574,212.91\" style=\"stroke:#181818;stroke-width:1.0;\"/></g><!--SRC=[VP3DJWCn38JlUGeVGIql4A5Uoe431yIXrofANB2q-S7sggqGxqwoowP8At7pZ3vhFFQ34u5Npc7q-eJgQ3WGdk7B06meMA2aRImpOHUqUOmf8DynVeuekWN5M0QdU4mkuXPyJeeNlRVmh5hUK4fEWkRR6FytT1NLjYs8SXC1nJCLfPowLvXy9Kv3TjE2hvdlcQyMzh_JvEOOCQbOU27Hn_qiTxVy1VxdW1ixRw_GLh3VvKRzoDobPwm9uUWg4Uga5AVswsS_xFfRbwTKgvVfNZFdGymF]--></g></svg>"
      ],
      "text/plain": [
       "<IPython.core.display.SVG object>"
      ]
     },
     "execution_count": 39,
     "metadata": {},
     "output_type": "execute_result"
    }
   ],
   "source": [
    "%%plantuml --jar\n",
    "\n",
    "@startuml\n",
    "\n",
    "class ProductDetailView {\n",
    "  +id: int\n",
    "  +product: Product\n",
    "  +render(request, template_name, context): HttpResponse\n",
    "}\n",
    "\n",
    "class Product {\n",
    "  +id: int\n",
    "  +name: str\n",
    "  +description: str\n",
    "  +price: float\n",
    "  +category: Category\n",
    "  +comments: List<Comment>\n",
    "}\n",
    "\n",
    "class Category {\n",
    "  +id: int\n",
    "  +name: str\n",
    "}\n",
    "\n",
    "class Comment {\n",
    "  +id: int\n",
    "  +text: str\n",
    "  +author: str\n",
    "  +created_at: datetime\n",
    "}\n",
    "\n",
    "ProductDetailView -> Product\n",
    "Product -> Category\n",
    "Product --> Comment\n",
    "\n",
    "@enduml\n"
   ]
  },
  {
   "cell_type": "code",
   "execution_count": 40,
   "id": "9f3868c4",
   "metadata": {},
   "outputs": [
    {
     "data": {
      "image/svg+xml": [
       "<svg xmlns=\"http://www.w3.org/2000/svg\" xmlns:xlink=\"http://www.w3.org/1999/xlink\" contentStyleType=\"text/css\" height=\"322px\" preserveAspectRatio=\"none\" style=\"width:532px;height:322px;background:#FFFFFF;\" version=\"1.1\" viewBox=\"0 0 532 322\" width=\"532px\" zoomAndPan=\"magnify\"><defs/><g><!--cluster AWS Cloud--><g id=\"cluster_AWS Cloud\"><path d=\"M8.5,6 L95.5,6 A3.75,3.75 0 0 1 98,8.5 L105,28.2969 L522.5,28.2969 A2.5,2.5 0 0 1 525,30.7969 L525,312.5 A2.5,2.5 0 0 1 522.5,315 L8.5,315 A2.5,2.5 0 0 1 6,312.5 L6,8.5 A2.5,2.5 0 0 1 8.5,6 \" fill=\"none\" style=\"stroke:#000000;stroke-width:1.5;\"/><line style=\"stroke:#000000;stroke-width:1.5;\" x1=\"6\" x2=\"105\" y1=\"28.2969\" y2=\"28.2969\"/><text fill=\"#000000\" font-family=\"sans-serif\" font-size=\"14\" font-weight=\"bold\" lengthAdjust=\"spacing\" textLength=\"86\" x=\"10\" y=\"20.9951\">AWS Cloud</text></g><!--entity AWS Lambda (Django Frontend)--><g id=\"elem_AWS Lambda (Django Frontend)\"><rect fill=\"#F1F1F1\" height=\"46.2969\" rx=\"2.5\" ry=\"2.5\" style=\"stroke:#181818;stroke-width:0.5;\" width=\"259\" x=\"135.5\" y=\"147\"/><rect fill=\"#F1F1F1\" height=\"10\" style=\"stroke:#181818;stroke-width:0.5;\" width=\"15\" x=\"374.5\" y=\"152\"/><rect fill=\"#F1F1F1\" height=\"2\" style=\"stroke:#181818;stroke-width:0.5;\" width=\"4\" x=\"372.5\" y=\"154\"/><rect fill=\"#F1F1F1\" height=\"2\" style=\"stroke:#181818;stroke-width:0.5;\" width=\"4\" x=\"372.5\" y=\"158\"/><text fill=\"#000000\" font-family=\"sans-serif\" font-size=\"14\" lengthAdjust=\"spacing\" textLength=\"219\" x=\"150.5\" y=\"179.9951\">AWS Lambda (Django Frontend)</text></g><!--entity AWS RDS (MySQL Backend DB)--><g id=\"elem_AWS RDS (MySQL Backend DB)\"><rect fill=\"#F1F1F1\" height=\"46.2969\" rx=\"2.5\" ry=\"2.5\" style=\"stroke:#181818;stroke-width:0.5;\" width=\"255\" x=\"22.5\" y=\"253\"/><rect fill=\"#F1F1F1\" height=\"10\" style=\"stroke:#181818;stroke-width:0.5;\" width=\"15\" x=\"257.5\" y=\"258\"/><rect fill=\"#F1F1F1\" height=\"2\" style=\"stroke:#181818;stroke-width:0.5;\" width=\"4\" x=\"255.5\" y=\"260\"/><rect fill=\"#F1F1F1\" height=\"2\" style=\"stroke:#181818;stroke-width:0.5;\" width=\"4\" x=\"255.5\" y=\"264\"/><text fill=\"#000000\" font-family=\"sans-serif\" font-size=\"14\" lengthAdjust=\"spacing\" textLength=\"215\" x=\"37.5\" y=\"285.9951\">AWS RDS (MySQL Backend DB)</text></g><!--entity AWS S3 (Static Assets)--><g id=\"elem_AWS S3 (Static Assets)\"><rect fill=\"#F1F1F1\" height=\"46.2969\" rx=\"2.5\" ry=\"2.5\" style=\"stroke:#181818;stroke-width:0.5;\" width=\"196\" x=\"313\" y=\"253\"/><rect fill=\"#F1F1F1\" height=\"10\" style=\"stroke:#181818;stroke-width:0.5;\" width=\"15\" x=\"489\" y=\"258\"/><rect fill=\"#F1F1F1\" height=\"2\" style=\"stroke:#181818;stroke-width:0.5;\" width=\"4\" x=\"487\" y=\"260\"/><rect fill=\"#F1F1F1\" height=\"2\" style=\"stroke:#181818;stroke-width:0.5;\" width=\"4\" x=\"487\" y=\"264\"/><text fill=\"#000000\" font-family=\"sans-serif\" font-size=\"14\" lengthAdjust=\"spacing\" textLength=\"156\" x=\"328\" y=\"285.9951\">AWS S3 (Static Assets)</text></g><!--entity AWS Elastic Load Balancer (ELB)--><g id=\"elem_AWS Elastic Load Balancer (ELB)\"><rect fill=\"#F1F1F1\" height=\"46.2969\" rx=\"2.5\" ry=\"2.5\" style=\"stroke:#181818;stroke-width:0.5;\" width=\"260\" x=\"135\" y=\"41\"/><rect fill=\"#F1F1F1\" height=\"10\" style=\"stroke:#181818;stroke-width:0.5;\" width=\"15\" x=\"375\" y=\"46\"/><rect fill=\"#F1F1F1\" height=\"2\" style=\"stroke:#181818;stroke-width:0.5;\" width=\"4\" x=\"373\" y=\"48\"/><rect fill=\"#F1F1F1\" height=\"2\" style=\"stroke:#181818;stroke-width:0.5;\" width=\"4\" x=\"373\" y=\"52\"/><text fill=\"#000000\" font-family=\"sans-serif\" font-size=\"14\" lengthAdjust=\"spacing\" textLength=\"220\" x=\"150\" y=\"73.9951\">AWS Elastic Load Balancer (ELB)</text></g><!--link AWS Elastic Load Balancer (ELB) to AWS Lambda (Django Frontend)--><g id=\"link_AWS Elastic Load Balancer (ELB)_AWS Lambda (Django Frontend)\"><path d=\"M265,87.06 C265,103.05 265,124.78 265,141.84 \" fill=\"none\" id=\"AWS Elastic Load Balancer (ELB)-to-AWS Lambda (Django Frontend)\" style=\"stroke:#181818;stroke-width:1.0;\"/><polygon fill=\"#181818\" points=\"265,146.98,269,137.98,265,141.98,261,137.98,265,146.98\" style=\"stroke:#181818;stroke-width:1.0;\"/></g><!--link AWS Lambda (Django Frontend) to AWS RDS (MySQL Backend DB)--><g id=\"link_AWS Lambda (Django Frontend)_AWS RDS (MySQL Backend DB)\"><path d=\"M240.61,193.06 C222.32,209.6 197.23,232.28 178.1,249.59 \" fill=\"none\" id=\"AWS Lambda (Django Frontend)-to-AWS RDS (MySQL Backend DB)\" style=\"stroke:#181818;stroke-width:1.0;\"/><polygon fill=\"#181818\" points=\"174.35,252.98,183.709,249.9126,178.0594,249.6273,178.3447,243.9776,174.35,252.98\" style=\"stroke:#181818;stroke-width:1.0;\"/></g><!--link AWS Lambda (Django Frontend) to AWS S3 (Static Assets)--><g id=\"link_AWS Lambda (Django Frontend)_AWS S3 (Static Assets)\"><path d=\"M295.96,193.06 C319.38,209.74 351.56,232.66 375.93,250.02 \" fill=\"none\" id=\"AWS Lambda (Django Frontend)-to-AWS S3 (Static Assets)\" style=\"stroke:#181818;stroke-width:1.0;\"/><polygon fill=\"#181818\" points=\"380.08,252.98,375.0701,244.5006,376.0075,250.0792,370.4288,251.0166,380.08,252.98\" style=\"stroke:#181818;stroke-width:1.0;\"/></g><!--SRC=[AqXCpavCJrLGSWmFLd3EoIzDKLAevb9GY0RnVH9par8I5JHSiXBpqlCLt8hoyqfIyr8qOs4AWbo25JHyAuC3VHISW0O1vHHSd13ImSOA6i4bYIMPoGgEnSMf9SK8ATUSn6AGk4z-OWfGRqvYNd9gaOA6gmz8UoqN5q552hgwTeHSYLyQOG8kRn2h7vi_0G00]--></g></svg>"
      ],
      "text/plain": [
       "<IPython.core.display.SVG object>"
      ]
     },
     "execution_count": 40,
     "metadata": {},
     "output_type": "execute_result"
    }
   ],
   "source": [
    "%%plantuml --jar\n",
    "\n",
    "@startuml\n",
    "\n",
    "@startuml\n",
    "\n",
    "package \"AWS Cloud\" {\n",
    "  [AWS Lambda (Django Frontend)]\n",
    "  [AWS RDS (MySQL Backend DB)]\n",
    "  [AWS S3 (Static Assets)]\n",
    "  [AWS Elastic Load Balancer (ELB)]\n",
    "}\n",
    "\n",
    "[AWS Elastic Load Balancer (ELB)] --> [AWS Lambda (Django Frontend)]\n",
    "[AWS Lambda (Django Frontend)] --> [AWS RDS (MySQL Backend DB)]\n",
    "[AWS Lambda (Django Frontend)] --> [AWS S3 (Static Assets)]\n",
    "\n",
    "@enduml\n",
    "\n"
   ]
  },
  {
   "cell_type": "code",
   "execution_count": null,
   "id": "13e0d0b6",
   "metadata": {},
   "outputs": [],
   "source": []
  }
 ],
 "metadata": {
  "kernelspec": {
   "display_name": "Python 3 (ipykernel)",
   "language": "python",
   "name": "python3"
  },
  "language_info": {
   "codemirror_mode": {
    "name": "ipython",
    "version": 3
   },
   "file_extension": ".py",
   "mimetype": "text/x-python",
   "name": "python",
   "nbconvert_exporter": "python",
   "pygments_lexer": "ipython3",
   "version": "3.10.6"
  }
 },
 "nbformat": 4,
 "nbformat_minor": 5
}
